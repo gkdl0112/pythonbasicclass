{
  "nbformat": 4,
  "nbformat_minor": 0,
  "metadata": {
    "colab": {
      "name": "Python Basic Day3.ipynb",
      "provenance": [],
      "authorship_tag": "ABX9TyNr+12KhmkW6YIS3g0+ZQTj",
      "include_colab_link": true
    },
    "kernelspec": {
      "name": "python3",
      "display_name": "Python 3"
    },
    "language_info": {
      "name": "python"
    }
  },
  "cells": [
    {
      "cell_type": "markdown",
      "metadata": {
        "id": "view-in-github",
        "colab_type": "text"
      },
      "source": [
        "<a href=\"https://colab.research.google.com/github/gkdl0112/pythonbasicclass/blob/main/Python_Basic_Day3.ipynb\" target=\"_parent\"><img src=\"https://colab.research.google.com/assets/colab-badge.svg\" alt=\"Open In Colab\"/></a>"
      ]
    },
    {
      "cell_type": "code",
      "execution_count": null,
      "metadata": {
        "id": "iuhKqQ58RhpX"
      },
      "outputs": [],
      "source": [
        "# list tuple dict set\n",
        "\n",
        "# list     [] indexing/slicing    mutable(del,ins)   [1]\n",
        "# tuple    () indexing/slicing    immutable          (1,)\n",
        "# dict     {}   x (unrodered)     mutable(del,ins)   {'key':'value'}  \n",
        "# set      {}   x (unrodered)     mutable(del,ins)   {1,2,3}\n",
        "\n"
      ]
    },
    {
      "cell_type": "code",
      "source": [
        "# 1\n",
        "no = '31025'\n",
        "a = no[0]  # indexing\n",
        "b = no[1:3] # slicing\n",
        "c = no[3:] # slicing\n",
        "print(a ,'학년',b,'반',c,'번')\n",
        "print(f'{a} 학년 {b} 반 {c} 번')  # f 스트링"
      ],
      "metadata": {
        "colab": {
          "base_uri": "https://localhost:8080/"
        },
        "id": "iRpaOEhfUMdD",
        "outputId": "d486b200-c3e7-443a-8535-059cf87e169f"
      },
      "execution_count": 11,
      "outputs": [
        {
          "output_type": "stream",
          "name": "stdout",
          "text": [
            "3 학년 10 반 25 번\n",
            "3 학년 10 반 25 번\n"
          ]
        }
      ]
    },
    {
      "cell_type": "code",
      "source": [
        "# 2 \n",
        "no = '서울2가1234' #10가 1234 , 288가 1234\n",
        "no4 = no[-4:]\n",
        "print(no,'의 차량번호 4자리는', no4,'입니다.')\n",
        "print(f'{no} 의 차량번호 4자리는 {no4} 입니다.')"
      ],
      "metadata": {
        "colab": {
          "base_uri": "https://localhost:8080/"
        },
        "id": "2Ue3dYbXYx9e",
        "outputId": "4a7b7924-23ec-46ff-8899-a9bb48417fde"
      },
      "execution_count": 15,
      "outputs": [
        {
          "output_type": "stream",
          "name": "stdout",
          "text": [
            "서울2가1234 의 차량번호 4자리는 1234 입니다.\n",
            "서울2가1234 의 차량번호 4자리는 1234 입니다.\n"
          ]
        }
      ]
    },
    {
      "cell_type": "code",
      "source": [
        "# 3\n",
        "s = 'maple' #가운데 p출력\n",
        "center = s[len(s) // 2]   # //= 나머지를 버리고 몫만 취한다  # len() 글자의 길이 \n",
        "                       # % 몫은 버리고 나머지만 취한다 (홀/짝/배)\n",
        "print(s,'의 가운데 글자는',center,'입니다')\n",
        "print(f'{s} 의 가운데 글자는 {center} 입니다')"
      ],
      "metadata": {
        "colab": {
          "base_uri": "https://localhost:8080/"
        },
        "id": "VJk472z2atzA",
        "outputId": "b70dc330-6bd1-4bfe-d1a0-a4f8e4d1b243"
      },
      "execution_count": 24,
      "outputs": [
        {
          "output_type": "stream",
          "name": "stdout",
          "text": [
            "maple 의 가운데 글자는 p 입니다\n",
            "maple 의 가운데 글자는 p 입니다\n"
          ]
        }
      ]
    },
    {
      "cell_type": "code",
      "source": [
        "# 4\n",
        "li1 = [10,20,30,40,50,60,70,80,90,100]\n",
        "\n",
        "print('3번째 요소부터 7번째 요소 = ',li1[2:7])\n",
        "print('3번째 요소부터 7번째 요소 중 2번째 요소 = ',li1[2:7][1])"
      ],
      "metadata": {
        "colab": {
          "base_uri": "https://localhost:8080/"
        },
        "id": "GG2w9F60Xlqa",
        "outputId": "ac0e32ca-ae9f-4162-997c-172e05962e32"
      },
      "execution_count": 31,
      "outputs": [
        {
          "output_type": "stream",
          "name": "stdout",
          "text": [
            "3번째 요소부터 7번째 요소 =  [30, 40, 50, 60, 70]\n",
            "3번째 요소부터 7번째 요소 중 2번째 요소 =  40\n"
          ]
        }
      ]
    },
    {
      "cell_type": "code",
      "source": [
        "# 5 \n",
        "dict = {'금요일':'탕수육',\n",
        "        '토요일':'유산슬',\n",
        "        '일요일':'팔보채'}\n",
        "\n",
        "print('금요일 :',dict['금요일'])\n",
        "print('토요일 :',dict['토요일'])\n",
        "print('일요일 :',dict['일요일'])"
      ],
      "metadata": {
        "colab": {
          "base_uri": "https://localhost:8080/"
        },
        "id": "ma-IbIj-hFI7",
        "outputId": "7667cda3-ff4c-4d06-e85d-0b91e1b4c325"
      },
      "execution_count": 39,
      "outputs": [
        {
          "output_type": "stream",
          "name": "stdout",
          "text": [
            "금요일 : 탕수육\n",
            "토요일 : 유산슬\n",
            "일요일 : 팔보채\n"
          ]
        }
      ]
    },
    {
      "cell_type": "code",
      "source": [
        "# \\ 따음표의 기능을 무력화시키고 글자로 표현\n",
        "# \\n 줄바꿈 line feed\n",
        "# \\n 탭     tab\n",
        "\n",
        "print('Hello \\'World\\'')\n",
        "print(\"Hello 'World'\")\n",
        "\n",
        "print(\"Hello \\\"World\\\"\")\n",
        "print('Hello \"World\"')\n",
        "\n",
        "print('*\\n**\\n***')\n",
        "print('Hello\\nWorld')\n",
        "\n",
        "print('이름\\t연락처')\n",
        "print('제시카\\t01-123-4567')\n",
        "print('마틴\\t010-6789-7890')"
      ],
      "metadata": {
        "colab": {
          "base_uri": "https://localhost:8080/"
        },
        "id": "-_RmcT3WiZpT",
        "outputId": "f6d3e78b-242c-4039-d897-68f9fbd394bb"
      },
      "execution_count": 49,
      "outputs": [
        {
          "output_type": "stream",
          "name": "stdout",
          "text": [
            "Hello 'World'\n",
            "Hello 'World'\n",
            "Hello \"World\"\n",
            "Hello \"World\"\n",
            "*\n",
            "**\n",
            "***\n",
            "Hello\n",
            "World\n",
            "이름\t연락처\n",
            "제시카\t01-123-4567\n",
            "마틴\t010-6789-7890\n"
          ]
        }
      ]
    },
    {
      "cell_type": "code",
      "source": [
        "# print() 함수\n",
        "\n",
        "print('재미있는','파이썬')\n",
        "print('재미있는','파이썬', sep=',') # 구분자\n",
        "print('재미있는','파이썬', sep='/')\n",
        "print('재미있는','파이썬', sep=':')"
      ],
      "metadata": {
        "colab": {
          "base_uri": "https://localhost:8080/"
        },
        "id": "t17NQqcqlO_-",
        "outputId": "06df9fa2-90f1-4e30-fedb-d338f309bc8d"
      },
      "execution_count": 58,
      "outputs": [
        {
          "output_type": "stream",
          "name": "stdout",
          "text": [
            "재미있는 파이썬\n",
            "재미있는,파이썬\n",
            "재미있는/파이썬\n",
            "재미있는:파이썬\n"
          ]
        }
      ]
    },
    {
      "cell_type": "code",
      "source": [
        "print('영화 타이타닉')\n",
        "print('평점', end=' ') # end 줄 안바꾸고 옆으로 쓸때\n",
        "print('5점')"
      ],
      "metadata": {
        "colab": {
          "base_uri": "https://localhost:8080/"
        },
        "id": "GZqj5aYWmNg0",
        "outputId": "58dc0d7b-d573-4f90-f51e-f1175f589ca0"
      },
      "execution_count": 62,
      "outputs": [
        {
          "output_type": "stream",
          "name": "stdout",
          "text": [
            "영화 타이타닉\n",
            "평점 5점\n"
          ]
        }
      ]
    },
    {
      "cell_type": "code",
      "source": [
        "# % 연산자 (비추)\n",
        "\n",
        "print('%d' % 10)    #%d 정수 10진수 자리표시자\n",
        "print('%o' % 10)    #%o 정수 8진수 자리표시자\n",
        "print('%x' % 10)    #%x 정수 8진수 자리표시자\n",
        "\n",
        "print('%f' % 3.14)\n",
        "print('%s' % 'python')\n",
        "\n",
        "print('%s' % 10)    #%d 정수 10진수 자리표시자\n",
        "print('%s' % 3.14)\n",
        "print('%s' % 'python')"
      ],
      "metadata": {
        "colab": {
          "base_uri": "https://localhost:8080/"
        },
        "id": "91AJ1_gShnSq",
        "outputId": "9aa8dc65-1f2c-444a-b8cd-12ec012110f5"
      },
      "execution_count": 70,
      "outputs": [
        {
          "output_type": "stream",
          "name": "stdout",
          "text": [
            "10\n",
            "12\n",
            "a\n",
            "3.140000\n",
            "python\n",
            "10\n",
            "3.14\n",
            "python\n"
          ]
        }
      ]
    },
    {
      "cell_type": "code",
      "source": [
        "print('%d' % 1) \n",
        "print('%5d' % 1)  # 다섯칸을 확보하고 오른쪽에 출력\n",
        "print('%5d' % 11) # 다섯칸을 확보하고 오른쪽부터 출력"
      ],
      "metadata": {
        "colab": {
          "base_uri": "https://localhost:8080/"
        },
        "id": "cDp5Oca5tSXH",
        "outputId": "93bf19e5-5e24-4d28-ad81-6990fd8093eb"
      },
      "execution_count": 74,
      "outputs": [
        {
          "output_type": "stream",
          "name": "stdout",
          "text": [
            "1\n",
            "    1\n",
            "   11\n"
          ]
        }
      ]
    },
    {
      "cell_type": "code",
      "source": [
        "print('%-5d' % 1)  # 다섯칸을 확보하고 왼쪽에 출력\n",
        "print('%-05d' % 11) # 다섯칸을 확보하고 왼쪽부터 출력"
      ],
      "metadata": {
        "colab": {
          "base_uri": "https://localhost:8080/"
        },
        "id": "A0oXA_iatxa3",
        "outputId": "63448ca8-5dd0-4e36-ce6b-baa72c6c99eb"
      },
      "execution_count": 75,
      "outputs": [
        {
          "output_type": "stream",
          "name": "stdout",
          "text": [
            "1    \n",
            "11   \n"
          ]
        }
      ]
    },
    {
      "cell_type": "code",
      "source": [
        "print('%5f' % 3.14) \n",
        "print('%5.2f' % 3.14)  # 다섯칸을 확보하고 소수 2자리까지 오른쪽에 실수출력\n",
        "print('%5d' % 11) # 다섯칸을 확보하고 오른쪽부터 출력"
      ],
      "metadata": {
        "colab": {
          "base_uri": "https://localhost:8080/"
        },
        "id": "Qh0GlRNft9p-",
        "outputId": "69b627fe-4c87-40b1-f76b-8da3a8e2f27b"
      },
      "execution_count": 79,
      "outputs": [
        {
          "output_type": "stream",
          "name": "stdout",
          "text": [
            "3.140000\n",
            " 3.14\n",
            "   11\n"
          ]
        }
      ]
    },
    {
      "cell_type": "code",
      "source": [
        "print('%-5.2f' % 3.14)  # 다섯칸을 확보하고 소수 2자리까지 왼쪽에 실수출력\n",
        "print('%-5.1f' % 3.14)  # 다섯칸을 확보하고 소수 1자리까지 왼쪽에 실수출력"
      ],
      "metadata": {
        "colab": {
          "base_uri": "https://localhost:8080/"
        },
        "id": "pyeuqe2fuhsm",
        "outputId": "f6965f22-120b-4983-823b-c291a9c62731"
      },
      "execution_count": 81,
      "outputs": [
        {
          "output_type": "stream",
          "name": "stdout",
          "text": [
            "3.14 \n",
            "3.1  \n"
          ]
        }
      ]
    },
    {
      "cell_type": "code",
      "source": [
        "print('%-.2f' % 3.14)  # 소수 2자리까지 왼쪽에 실수출력\n",
        "print('%-.1f' % 3.14)  # 소수 1자리까지 왼쪽에 실수출력"
      ],
      "metadata": {
        "colab": {
          "base_uri": "https://localhost:8080/"
        },
        "id": "Qna5fKXQusLt",
        "outputId": "4d2d49a2-8086-430a-9dc0-6d01db9a1897"
      },
      "execution_count": 83,
      "outputs": [
        {
          "output_type": "stream",
          "name": "stdout",
          "text": [
            "3.14\n",
            "3.1\n"
          ]
        }
      ]
    },
    {
      "cell_type": "code",
      "source": [
        "print('%s' % 3.14)  "
      ],
      "metadata": {
        "colab": {
          "base_uri": "https://localhost:8080/"
        },
        "id": "NDB_ILNhu0J4",
        "outputId": "af0bc091-6c8a-4897-b826-7a657980c2a4"
      },
      "execution_count": 85,
      "outputs": [
        {
          "output_type": "stream",
          "name": "stdout",
          "text": [
            "3.14\n"
          ]
        }
      ]
    },
    {
      "cell_type": "code",
      "source": [
        "# 기본 출력 방법\n",
        "a = '학생'\n",
        "print(a,'입니다.')\n",
        "\n",
        "# f string 출력 방법\n",
        "print(f'{a} 입니다.')\n",
        "\n",
        "# % 연산자 출력 방법\n",
        "print('%s 입니다.' % a)\n",
        "\n",
        "# format() 출력 방법\n",
        "print('{} 입니다.'.format(a))"
      ],
      "metadata": {
        "colab": {
          "base_uri": "https://localhost:8080/"
        },
        "id": "xO-TRUjtu_Gk",
        "outputId": "dc4acdf9-8d98-4455-b7e9-c330a0de9aee"
      },
      "execution_count": 89,
      "outputs": [
        {
          "output_type": "stream",
          "name": "stdout",
          "text": [
            "학생 입니다.\n",
            "학생 입니다.\n",
            "학생 입니다.\n",
            "학생 입니다.\n"
          ]
        }
      ]
    },
    {
      "cell_type": "code",
      "source": [
        "# format() 매서드\n",
        "print('My name is {}'.format('James'))"
      ],
      "metadata": {
        "colab": {
          "base_uri": "https://localhost:8080/"
        },
        "id": "swjGyNGUwjW8",
        "outputId": "422bd40c-9b48-4844-c8f9-2daad62a18ce"
      },
      "execution_count": 90,
      "outputs": [
        {
          "output_type": "stream",
          "name": "stdout",
          "text": [
            "My name is James\n"
          ]
        }
      ]
    },
    {
      "cell_type": "code",
      "source": [
        "print('My name is {0}'.format('James'))"
      ],
      "metadata": {
        "colab": {
          "base_uri": "https://localhost:8080/"
        },
        "id": "WxexzqrhwwFR",
        "outputId": "28b156c9-7ffa-4694-acc4-02480e5479e7"
      },
      "execution_count": 91,
      "outputs": [
        {
          "output_type": "stream",
          "name": "stdout",
          "text": [
            "My name is James\n"
          ]
        }
      ]
    },
    {
      "cell_type": "code",
      "source": [
        "print('My name is {name}'.format(name='James'))"
      ],
      "metadata": {
        "colab": {
          "base_uri": "https://localhost:8080/"
        },
        "id": "-BhtzaVqwzeS",
        "outputId": "e51a52c4-9291-4177-80c9-3d394dd0b528"
      },
      "execution_count": 92,
      "outputs": [
        {
          "output_type": "stream",
          "name": "stdout",
          "text": [
            "My name is James\n"
          ]
        }
      ]
    },
    {
      "cell_type": "code",
      "source": [
        "# f-strings \n",
        "\n",
        "who = 'you'\n",
        "how = 'happy'\n",
        "\n",
        "print(f'{who} make me {how}')"
      ],
      "metadata": {
        "colab": {
          "base_uri": "https://localhost:8080/"
        },
        "id": "8AiMaKI8x7Bi",
        "outputId": "0c70b1ed-e226-40c5-f542-9768313ffbae"
      },
      "execution_count": 96,
      "outputs": [
        {
          "output_type": "stream",
          "name": "stdout",
          "text": [
            "you make me happy\n"
          ]
        }
      ]
    },
    {
      "cell_type": "code",
      "source": [
        "age = 25\n",
        "print(f'내년엔 {age+1}살이 됩니다.')"
      ],
      "metadata": {
        "colab": {
          "base_uri": "https://localhost:8080/"
        },
        "id": "cicndRxhyn0l",
        "outputId": "8d6fed87-c3f1-44c1-9bf4-3ea0a88206b8"
      },
      "execution_count": 97,
      "outputs": [
        {
          "output_type": "stream",
          "name": "stdout",
          "text": [
            "내년엔 26살이 됩니다.\n"
          ]
        }
      ]
    },
    {
      "cell_type": "code",
      "source": [
        "# 표준입력\n",
        "\n",
        "a = input()\n",
        "print(a)"
      ],
      "metadata": {
        "colab": {
          "base_uri": "https://localhost:8080/"
        },
        "id": "X_omXrIIzAJt",
        "outputId": "f99131f8-7679-4c7c-b3c8-b7cbe862524c"
      },
      "execution_count": 98,
      "outputs": [
        {
          "output_type": "stream",
          "name": "stdout",
          "text": [
            "asd\n",
            "asd\n"
          ]
        }
      ]
    },
    {
      "cell_type": "code",
      "source": [
        "n = input('정수를 입력하세요 : ')\n",
        "print(n)"
      ],
      "metadata": {
        "colab": {
          "base_uri": "https://localhost:8080/"
        },
        "id": "B2bwPOlQzY1V",
        "outputId": "83399c27-d292-4788-b3ea-1850d0827199"
      },
      "execution_count": 100,
      "outputs": [
        {
          "output_type": "stream",
          "name": "stdout",
          "text": [
            "정수를 입력하세요 : 23\n",
            "23\n"
          ]
        }
      ]
    },
    {
      "cell_type": "code",
      "source": [
        "name = input('이름을 입력하세요>>>')\n",
        "age = input('나이를 입력하세요 >>>')\n",
        "print('입련된 이름은 {}입니다.'.format(name))\n",
        "print('입력된 나이는 {}살입니다')"
      ],
      "metadata": {
        "colab": {
          "base_uri": "https://localhost:8080/"
        },
        "id": "SxNweRyXz8zq",
        "outputId": "85051e45-e7c9-461c-88e6-cb1e000f059d"
      },
      "execution_count": 103,
      "outputs": [
        {
          "output_type": "stream",
          "name": "stdout",
          "text": [
            "이름을 입력하세요>>>홍길동\n",
            "나이를 입력하세요 >>>30\n",
            "입련된 이름은 홍길동입니다.\n"
          ]
        }
      ]
    },
    {
      "cell_type": "code",
      "source": [
        "name = input('이름을 입력하세요 >>>')\n",
        "age = input ('나이를 입력하세요 >>>')\n",
        "\n",
        "print('입력된 이름은 {}입니다'.format(name))\n",
        "print('입력된 나이는 {}입니다'.format(age))"
      ],
      "metadata": {
        "colab": {
          "base_uri": "https://localhost:8080/"
        },
        "id": "2vZj65In0093",
        "outputId": "1b853b5f-5f59-437e-d41a-de2725585cbb"
      },
      "execution_count": 106,
      "outputs": [
        {
          "output_type": "stream",
          "name": "stdout",
          "text": [
            "이름을 입력하세요 >>>홍길동\n",
            "나이를 입력하세요 >>>20\n",
            "입력된 이름은 홍길동입니다\n",
            "입력된 나이는 20입니다\n"
          ]
        }
      ]
    },
    {
      "cell_type": "code",
      "source": [
        "name = input('이름을 입력하세요 >>> ')\n",
        "age = input('나이를 입력하세요 >>> ')\n",
        "\n",
        "print('입력된 이름은 {}입니다.'.format(name))\n",
        "print('입력된 나이는 {}입니다.'.format(age))\n",
        "\n",
        "print('입력된 이름은 %s입니다.' % name)\n",
        "print('입력된 나이는 %s입니다.' % age)\n",
        "\n",
        "print(f'입력된 이름은 {name}입니다.')\n",
        "print(f'입력된 나이는 {age}입니다.')\n",
        "\n",
        "print('입력된 이름은',name,'입니다.')\n",
        "print('입력된 나이는',age, '입니다.')"
      ],
      "metadata": {
        "colab": {
          "base_uri": "https://localhost:8080/"
        },
        "id": "Sy5fn9Wt2YoP",
        "outputId": "463ad440-6cba-431b-a76a-da48f8456ab6"
      },
      "execution_count": 111,
      "outputs": [
        {
          "output_type": "stream",
          "name": "stdout",
          "text": [
            "이름을 입력하세요 >>> 홍길동\n",
            "나이를 입력하세요 >>> 20\n",
            "입력된 이름은 홍길동입니다.\n",
            "입력된 나이는 20입니다.\n",
            "입력된 이름은 홍길동입니다.\n",
            "입력된 나이는 20입니다.\n",
            "입력된 이름은 홍길동입니다.\n",
            "입력된 나이는 20입니다.\n",
            "입력된 이름은 홍길동 입니다.\n",
            "입력된 나이는 20 입니다.\n"
          ]
        }
      ]
    }
  ]
}